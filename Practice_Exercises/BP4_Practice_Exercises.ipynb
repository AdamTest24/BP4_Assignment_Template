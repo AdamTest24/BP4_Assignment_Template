{
 "cells": [
  {
   "cell_type": "markdown",
   "metadata": {},
   "source": [
    "## Practice Questions \n",
    "\n",
    "### **Chapter 6 - Dictionaries**"
   ]
  },
  {
   "cell_type": "markdown",
   "metadata": {},
   "source": [
    "__Exercise 1__"
   ]
  },
  {
   "cell_type": "markdown",
   "metadata": {},
   "source": [
    "\n",
    "Use [Universal Protein Resource](https://uniprot.org/) (UniProt) to find the following proteins for humans:\n",
    "\n",
    "- Axin-1\n",
    "- Rhodopsin\n",
    "\n",
    "Construct a dictionary for these proteins and the number amino acids for each of them. The *keys* should represent the name of the protein. Display the result."
   ]
  },
  {
   "cell_type": "code",
   "execution_count": null,
   "metadata": {},
   "outputs": [],
   "source": []
  },
  {
   "cell_type": "markdown",
   "metadata": {},
   "source": [
    "__Exercise 2__"
   ]
  },
  {
   "cell_type": "markdown",
   "metadata": {},
   "source": [
    "Using the dictionary you created in [Exercise 1](), test to see whether or not a protein called **ERK** exists as a *key* in your dictionary? Display the result as a Boolean value."
   ]
  },
  {
   "cell_type": "code",
   "execution_count": null,
   "metadata": {},
   "outputs": [],
   "source": []
  },
  {
   "cell_type": "markdown",
   "metadata": {},
   "source": [
    "__Exercise 3__"
   ]
  },
  {
   "cell_type": "markdown",
   "metadata": {},
   "source": [
    "\n",
    "Implement a ```dict``` to represent the following set of information:\n",
    "\n",
    "**Cystic Fibrosis:**\n",
    "\n",
    "| **Full Name** | **Gene** | **Type**  |\n",
    "|:---------------------------:|:---:|:---:|\n",
    "| Cystic fibrosis transmembrane conductance regulator | CFTR | Membrane Protein |\n",
    "\n",
    "Using the dictionary you implemented, retrieve and display the *gene* associated with cystic fibrosis.\n",
    "\n"
   ]
  },
  {
   "cell_type": "code",
   "execution_count": null,
   "metadata": {},
   "outputs": [],
   "source": []
  },
  {
   "cell_type": "markdown",
   "metadata": {},
   "source": [
    "__Exercise 4__"
   ]
  },
  {
   "cell_type": "markdown",
   "metadata": {},
   "source": [
    "Implement the following dictionary:\n",
    "\n",
    "```\n",
    "signal = {'name': 'Wnt', 'pathway': 'Non-Canonical'}}\n",
    "\n",
    "```\n",
    "\n",
    "with respect to <span style=\"color: rgb(32, 121, 77);\">signal</span>:\n",
    "\n",
    "   - Correct the *value* of <span style=\"color: rgb(32, 121, 77);\">pathway</span> to \"Canonical\";\n",
    "   - Add a new *item* to the dictionary to represent the *receptors* for the canonical pathway as  \"Frizzled\" and \"LRP\".\n",
    "\n",
    "Display the altered dictionary as the final result.\n"
   ]
  },
  {
   "cell_type": "code",
   "execution_count": null,
   "metadata": {},
   "outputs": [],
   "source": []
  },
  {
   "cell_type": "code",
   "execution_count": null,
   "metadata": {},
   "outputs": [],
   "source": []
  },
  {
   "cell_type": "markdown",
   "metadata": {},
   "source": [
    "__Exercise 5__"
   ]
  },
  {
   "cell_type": "markdown",
   "metadata": {},
   "source": [
    "Implement a dictionary as:\n",
    "\n",
    "```{python}\n",
    "signal = {'name': 'Beta-Galactosidase', 'pdb': '4V40'}\n",
    "```\n",
    "\n",
    "with respect to <span style=\"color: rgb(32, 121, 77);\">signal</span>:\n",
    "\n",
    "   - Change the *key* name from <span style=\"color: rgb(32, 121, 77);\">'pdb'</span> to <span style=\"color: rgb(32, 121, 77);\">'pdb id '</span> using the <kbd>.pop()</kbd> method.\n",
    "   - Write a code to find out whether the dictionary:\n",
    "\n",
    "        - contains the new *key* (i.e. <span style=\"color: rgb(32, 121, 77);\">'pdb id '</span>).\n",
    "        - confirm that it no longer contains the old *key* (i.e. <span style=\"color: rgb(32, 121, 77);\">'pdb'</span>)\n",
    "\n",
    "If both conditions are met, display:\n",
    "```\n",
    "Contains the new key, but not the old one.\n",
    "```\n",
    "Otherwise:\n",
    "```\n",
    "Failed to alter the dictionary.\n",
    "```\n"
   ]
  },
  {
   "cell_type": "code",
   "execution_count": null,
   "metadata": {},
   "outputs": [],
   "source": []
  },
  {
   "cell_type": "markdown",
   "metadata": {},
   "source": [
    "__Exercise 6__"
   ]
  },
  {
   "cell_type": "markdown",
   "metadata": {},
   "source": [
    "Implement the following table of genetic disorders as a nested dictionary:\n",
    "\n",
    "|   | Full Name | Gene | Type  |\n",
    "|:---------------------------:|:---:|:---:|:---:|\n",
    "| **Cystic fibrosis** | Cystic fibrosis transmembrane conductance regulator | CFTR | Membrane Protein |\n",
    "| **Xeroderma pigmentosum A** | DNA repair protein complementing XP-A cells | XPA | Nucleotide excision repair |\n",
    "| **Haemophilia A** | Haemophilia A | F8 | Factor VIII Blood-clotting protein |\n",
    "\n",
    "Using the dictionary, display the *gene* for *Haemophilia A*.\n"
   ]
  },
  {
   "cell_type": "code",
   "execution_count": null,
   "metadata": {},
   "outputs": [],
   "source": []
  },
  {
   "cell_type": "markdown",
   "metadata": {},
   "source": [
    "__Exercise 7__"
   ]
  },
  {
   "cell_type": "markdown",
   "metadata": {},
   "source": [
    "Do it Yourself\n",
    "\n",
    "Try .items() on a nested dict and see how it works.\n"
   ]
  },
  {
   "cell_type": "code",
   "execution_count": null,
   "metadata": {},
   "outputs": [],
   "source": []
  },
  {
   "cell_type": "markdown",
   "metadata": {},
   "source": [
    "__Exercise 8__"
   ]
  },
  {
   "cell_type": "markdown",
   "metadata": {},
   "source": [
    "\n",
    "\n",
    "Implement the lac_repressor dictionary and try to extract the values associated with the following keys:\n",
    "\n",
    "- organism\n",
    "- authors\n",
    "- subunits\n",
    "- method\n",
    "\n",
    "If a key does not exist in the dictionary, display No entry instead.\n",
    "\n",
    "Display the results in the following format:\n",
    "\n",
    "```\n",
    "organism: XXX\n",
    "\n",
    "authors: XXX\n",
    "```\n"
   ]
  },
  {
   "cell_type": "code",
   "execution_count": null,
   "metadata": {},
   "outputs": [],
   "source": []
  },
  {
   "cell_type": "code",
   "execution_count": null,
   "metadata": {},
   "outputs": [],
   "source": []
  },
  {
   "cell_type": "markdown",
   "metadata": {},
   "source": [
    "__Exercise 9__"
   ]
  },
  {
   "cell_type": "markdown",
   "metadata": {},
   "source": [
    "We know that in reverse transcription, RNA nucleotides are converted to their complementary DNA as shown:\n",
    "\n",
    "| Type |\tDirection \t| Nucleotides |\n",
    "|:---------------------------:|:---:|:---:|\n",
    "| RNA | 5’…’ |\tU A G C |\n",
    "| cDNA | 5’…’|\tA T C G |\n",
    "\n",
    "with that in mind:\n",
    "\n",
    "1. Use the table to construct a dictionary for reverse transcription, and another dictionary for the conversion of cDNA to DNA.\n",
    "\n",
    "2. Using the appropriate dictionary, convert the following mRNA (exon) sequence for human G protein-coupled receptor to its cDNA.\n"
   ]
  },
  {
   "cell_type": "markdown",
   "metadata": {},
   "source": [
    "\n",
    "\n",
    "\n",
    "with that in mind:\n",
    "\n",
    "    Use the table to construct a dictionary for reverse transcription, and another dictionary for the conversion of cDNA to DNA.\n",
    "\n",
    "    Using the appropriate dictionary, convert the following mRNA (exon) sequence for human G protein-coupled receptor to its cDNA.\n"
   ]
  },
  {
   "cell_type": "code",
   "execution_count": 2,
   "metadata": {},
   "outputs": [],
   "source": [
    "human_gpcr = (\n",
    "    'AUGGAUGUGACUUCCCAAGCCCGGGGCGUGGGCCUGGAGAUGUACCCAGGCACCGCGCAGCCUGCGGCCCCCAACACCACCUC'\n",
    "    'CCCCGAGCUCAACCUGUCCCACCCGCUCCUGGGCACCGCCCUGGCCAAUGGGACAGGUGAGCUCUCGGAGCACCAGCAGUACG'\n",
    "    'UGAUCGGCCUGUUCCUCUCGUGCCUCUACACCAUCUUCCUCUUCCCCAUCGGCUUUGUGGGCAACAUCCUGAUCCUGGUGGUG'\n",
    "    'AACAUCAGCUUCCGCGAGAAGAUGACCAUCCCCGACCUGUACUUCAUCAACCUGGCGGUGGCGGACCUCAUCCUGGUGGCCGA'\n",
    "    'CUCCCUCAUUGAGGUGUUCAACCUGCACGAGCGGUACUACGACAUCGCCGUCCUGUGCACCUUCAUGUCGCUCUUCCUGCAGG'\n",
    "    'UCAACAUGUACAGCAGCGUCUUCUUCCUCACCUGGAUGAGCUUCGACCGCUACAUCGCCCUGGCCAGGGCCAUGCGCUGCAGC'\n",
    "    'CUGUUCCGCACCAAGCACCACGCCCGGCUGAGCUGUGGCCUCAUCUGGAUGGCAUCCGUGUCAGCCACGCUGGUGCCCUUCAC'\n",
    "    'CGCCGUGCACCUGCAGCACACCGACGAGGCCUGCUUCUGUUUCGCGGAUGUCCGGGAGGUGCAGUGGCUCGAGGUCACGCUGG'\n",
    "    'GCUUCAUCGUGCCCUUCGCCAUCAUCGGCCUGUGCUACUCCCUCAUUGUCCGGGUGCUGGUCAGGGCGCACCGGCACCGUGGG'\n",
    "    'CUGCGGCCCCGGCGGCAGAAGGCGCUCCGCAUGAUCCUCGCGGUGGUGCUGGUCUUCUUCGUCUGCUGGCUGCCGGAGAACGU'\n",
    "    'CUUCAUCAGCGUGCACCUCCUGCAGCGGACGCAGCCUGGGGCCGCUCCCUGCAAGCAGUCUUUCCGCCAUGCCCACCCCCUCA'\n",
    "    'CGGGCCACAUUGUCAACCUCACCGCCUUCUCCAACAGCUGCCUAAACCCCCUCAUCUACAGCUUUCUCGGGGAGACCUUCAGG'\n",
    "    'GACAAGCUGAGGCUGUACAUUGAGCAGAAAACAAAUUUGCCGGCCCUGAACCGCUUCUGUCACGCUGCCCUGAAGGCCGUCAU'\n",
    "    'UCCAGACAGCACCGAGCAGUCGGAUGUGAGGUUCAGCAGUGCCGUG'\n",
    ")"
   ]
  },
  {
   "cell_type": "code",
   "execution_count": null,
   "metadata": {},
   "outputs": [],
   "source": []
  },
  {
   "cell_type": "code",
   "execution_count": null,
   "metadata": {},
   "outputs": [],
   "source": []
  },
  {
   "cell_type": "markdown",
   "metadata": {},
   "source": [
    "### **Chapter 7 - Functions**\n",
    "\n",
    "__Exercise 10__"
   ]
  },
  {
   "cell_type": "markdown",
   "metadata": {},
   "source": [
    "Implement a function called find_tata that takes in one str argument called seq and looks for the TATA-box motif inside that sequence. Then:\n",
    "\n",
    "- if found, the function should return the index for the TATA-box as output;\n",
    "\n",
    "- if not found, the function should explicitly return None.\n",
    "\n",
    "Example:\n",
    "\n",
    "The function should behave as follows:\n",
    "\n",
    "```\n",
    "sequence = 'GCAGTGTATAGTC'\n",
    "\n",
    "res = find_tata(sequence)\n",
    "```"
   ]
  },
  {
   "cell_type": "code",
   "execution_count": null,
   "metadata": {},
   "outputs": [],
   "source": []
  },
  {
   "cell_type": "markdown",
   "metadata": {},
   "source": [
    "__Exercise 11__"
   ]
  },
  {
   "cell_type": "markdown",
   "metadata": {},
   "source": [
    "Re-implement the function you defined in the [Exercise 10]() with appropriate documentations."
   ]
  },
  {
   "cell_type": "code",
   "execution_count": null,
   "metadata": {},
   "outputs": [],
   "source": []
  },
  {
   "cell_type": "markdown",
   "metadata": {},
   "source": [
    "__Exercise 12__"
   ]
  },
  {
   "cell_type": "markdown",
   "metadata": {},
   "source": [
    "\n",
    "\n",
    "Modify the function from [Exercise 11]() to accept an optional argument called upper, with default value of False; thereafter:\n",
    "\n",
    "- if upper is False, then the function should perform as it already does (similar to [Exercise 11]());\n",
    "\n",
    "- if upper is True, then the function should convert the sequence onto uppercase characters before it looks for the TATA-box.\n",
    "\n",
    "Do not forget to update the docstring of your function.\n"
   ]
  },
  {
   "cell_type": "code",
   "execution_count": null,
   "metadata": {},
   "outputs": [],
   "source": []
  },
  {
   "cell_type": "markdown",
   "metadata": {},
   "source": [
    "__Exercise 13__"
   ]
  },
  {
   "cell_type": "markdown",
   "metadata": {},
   "source": [
    "Write a function that given an array of any values, produces a dictionary containing the value of that array as keys, and the count of the values in the original array (their frequencies) as values.\n",
    "\n",
    "**Example**\n",
    "\n",
    "For the following array:\n",
    "\n",
    "``` values = [1, 1.3, 1, 1, 5, 5, 1.3, 'text', 'text', 'something'] ```\n",
    "\n",
    "the function should return the above dictionary:\n",
    "\n",
    "**Suggestion:** You can add this as a new tool to the statistics mini toolbox."
   ]
  },
  {
   "cell_type": "code",
   "execution_count": null,
   "metadata": {},
   "outputs": [],
   "source": []
  }
 ],
 "metadata": {
  "kernelspec": {
   "display_name": "Python 3 (ipykernel)",
   "language": "python",
   "name": "python3"
  },
  "language_info": {
   "codemirror_mode": {
    "name": "ipython",
    "version": 3
   },
   "file_extension": ".py",
   "mimetype": "text/x-python",
   "name": "python",
   "nbconvert_exporter": "python",
   "pygments_lexer": "ipython3",
   "version": "3.12.4"
  },
  "toc-autonumbering": true,
  "toc-showmarkdowntxt": false,
  "toc-showtags": false
 },
 "nbformat": 4,
 "nbformat_minor": 4
}
