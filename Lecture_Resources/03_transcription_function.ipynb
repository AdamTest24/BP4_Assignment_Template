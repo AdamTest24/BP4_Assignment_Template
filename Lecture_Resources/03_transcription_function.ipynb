{
 "cells": [
  {
   "cell_type": "markdown",
   "id": "fb685c59-d609-43e9-9248-572f91a141e4",
   "metadata": {},
   "source": [
    "# Transcription Function\n",
    "\n",
    "Convert the below script into a function that receives a DNA sequence as an input and creates a variable with the RNA sequence as an output."
   ]
  },
  {
   "cell_type": "code",
   "execution_count": 3,
   "id": "0c0e9493-df38-4c51-988f-3611057a6139",
   "metadata": {},
   "outputs": [
    {
     "data": {
      "text/plain": [
       "'GCTGCCGGGACGGGTCCAAGATGG'"
      ]
     },
     "execution_count": 3,
     "metadata": {},
     "output_type": "execute_result"
    }
   ],
   "source": [
    "sequence = 'GCTGCCGGGACGGGTCCAAGATGG' \n",
    "\n",
    "sequence"
   ]
  },
  {
   "cell_type": "code",
   "execution_count": 4,
   "id": "b8620ef9-be06-43a1-aa4c-fa6cbd777f32",
   "metadata": {},
   "outputs": [
    {
     "data": {
      "text/plain": [
       "{'A': 'U', 'T': 'A', 'C': 'G', 'G': 'C'}"
      ]
     },
     "execution_count": 4,
     "metadata": {},
     "output_type": "execute_result"
    }
   ],
   "source": [
    "dna2rna = {'A': 'U', 'T': 'A', 'C': 'G', 'G': 'C'}\n",
    "\n",
    "dna2rna"
   ]
  },
  {
   "cell_type": "code",
   "execution_count": 20,
   "id": "80daae2e-95bf-4561-a04e-cca484c68352",
   "metadata": {},
   "outputs": [
    {
     "data": {
      "text/plain": [
       "'ab'"
      ]
     },
     "execution_count": 20,
     "metadata": {},
     "output_type": "execute_result"
    }
   ],
   "source": [
    "my_string = 'a'\n",
    "\n",
    "my_string += 'b'\n",
    "\n",
    "my_string"
   ]
  },
  {
   "cell_type": "code",
   "execution_count": 5,
   "id": "c1bd4801-0698-4330-8a1b-9b5945b99e59",
   "metadata": {},
   "outputs": [
    {
     "data": {
      "text/plain": [
       "'CGACGGCCCUGCCCAGGUUCUACC'"
      ]
     },
     "execution_count": 5,
     "metadata": {},
     "output_type": "execute_result"
    }
   ],
   "source": [
    "rna_seq = str()\n",
    "\n",
    "for nucleotide in sequence:\n",
    "    \n",
    "    rna_seq += dna2rna[nucleotide]\n",
    "    \n",
    "rna_seq"
   ]
  },
  {
   "cell_type": "code",
   "execution_count": null,
   "id": "40426cbb-4c7e-4c5f-be3b-e5d7fd52ddb9",
   "metadata": {},
   "outputs": [],
   "source": []
  }
 ],
 "metadata": {
  "kernelspec": {
   "display_name": "Python 3 (ipykernel)",
   "language": "python",
   "name": "python3"
  },
  "language_info": {
   "codemirror_mode": {
    "name": "ipython",
    "version": 3
   },
   "file_extension": ".py",
   "mimetype": "text/x-python",
   "name": "python",
   "nbconvert_exporter": "python",
   "pygments_lexer": "ipython3",
   "version": "3.8.11"
  }
 },
 "nbformat": 4,
 "nbformat_minor": 5
}
