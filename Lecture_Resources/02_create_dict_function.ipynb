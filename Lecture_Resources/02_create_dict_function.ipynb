{
 "cells": [
  {
   "cell_type": "markdown",
   "id": "349912a5-94d1-4329-a7d5-1e6694ed9917",
   "metadata": {},
   "source": [
    "# Function to Create a Dictionary\n",
    "\n",
    "Write a function that receives a set of keys and a set of corresponding values and creates a dictionary from these. "
   ]
  },
  {
   "cell_type": "code",
   "execution_count": 2,
   "id": "9a72e51d-869a-4864-88b6-7661473be90b",
   "metadata": {},
   "outputs": [],
   "source": [
    "my_keys = ('A', 'B', 'C')\n",
    "\n",
    "my_values = [[1, 2, 4], [11, 12, 13, 41, 16], ['Art', 'Bart', 'Chart', 'Dart']]\n"
   ]
  },
  {
   "cell_type": "code",
   "execution_count": 3,
   "id": "de5ee36e-212d-4b30-862f-b4f797857783",
   "metadata": {},
   "outputs": [],
   "source": [
    "def create_dict(keys, vals):\n",
    "    \"\"\"\n",
    "    Function to create a dictionary from two arrays containing keys and values\n",
    "    \"\"\"\n",
    "    \n",
    "    if len(keys) != len(vals):\n",
    "        \n",
    "        print(\"Keys and Values don't match\")\n",
    "        \n",
    "        return\n",
    "\n",
    "    else:\n",
    "        \n",
    "        new_dict = dict()\n",
    "        \n",
    "        for index, key in enumerate(keys):\n",
    "            \n",
    "            new_dict[key] = vals[index]\n",
    "            \n",
    "        return new_dict\n"
   ]
  },
  {
   "cell_type": "code",
   "execution_count": 4,
   "id": "2ef74efd-a392-4dc1-87d3-1ea7cb33c3c5",
   "metadata": {},
   "outputs": [
    {
     "data": {
      "text/plain": [
       "{'A': [1, 2, 4],\n",
       " 'B': [11, 12, 13, 41, 16],\n",
       " 'C': ['Art', 'Bart', 'Chart', 'Dart']}"
      ]
     },
     "execution_count": 4,
     "metadata": {},
     "output_type": "execute_result"
    }
   ],
   "source": [
    "my_dict = create_dict(my_keys, my_values)\n",
    "\n",
    "my_dict"
   ]
  },
  {
   "cell_type": "code",
   "execution_count": 8,
   "id": "e4324d81-c7db-4802-8213-a844b4b1c1b9",
   "metadata": {},
   "outputs": [
    {
     "name": "stdout",
     "output_type": "stream",
     "text": [
      "Help on function create_dict in module __main__:\n",
      "\n",
      "create_dict(keys, vals)\n",
      "    Function to create a dictionary from two arrays containing keys and values\n",
      "\n"
     ]
    }
   ],
   "source": [
    "help(create_dict)"
   ]
  },
  {
   "cell_type": "code",
   "execution_count": null,
   "id": "c49d850c-d068-4151-b004-cbda4d592dad",
   "metadata": {},
   "outputs": [],
   "source": []
  }
 ],
 "metadata": {
  "kernelspec": {
   "display_name": "Python 3 (ipykernel)",
   "language": "python",
   "name": "python3"
  },
  "language_info": {
   "codemirror_mode": {
    "name": "ipython",
    "version": 3
   },
   "file_extension": ".py",
   "mimetype": "text/x-python",
   "name": "python",
   "nbconvert_exporter": "python",
   "pygments_lexer": "ipython3",
   "version": "3.8.11"
  },
  "toc-showtags": false
 },
 "nbformat": 4,
 "nbformat_minor": 5
}
